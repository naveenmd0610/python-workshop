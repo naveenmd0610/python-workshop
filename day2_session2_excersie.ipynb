{
  "nbformat": 4,
  "nbformat_minor": 0,
  "metadata": {
    "colab": {
      "name": "Untitled8.ipynb",
      "provenance": [],
      "authorship_tag": "ABX9TyO/DiBIM4sItfZT0KivrgqI",
      "include_colab_link": true
    },
    "kernelspec": {
      "name": "python3",
      "display_name": "Python 3"
    }
  },
  "cells": [
    {
      "cell_type": "markdown",
      "metadata": {
        "id": "view-in-github",
        "colab_type": "text"
      },
      "source": [
        "<a href=\"https://colab.research.google.com/github/nmdnaveenkumar/python-workshop/blob/master/day2_session2_excersie.ipynb\" target=\"_parent\"><img src=\"https://colab.research.google.com/assets/colab-badge.svg\" alt=\"Open In Colab\"/></a>"
      ]
    },
    {
      "cell_type": "markdown",
      "metadata": {
        "id": "kVix8mBc97W5",
        "colab_type": "text"
      },
      "source": [
        "1.\tAdd rollno and marks {name:mark} for n number of students through keyboard in a dictionary and print the marks in descending order with respective name."
      ]
    },
    {
      "cell_type": "code",
      "metadata": {
        "id": "WcIvYCms-cAJ",
        "colab_type": "code",
        "colab": {
          "base_uri": "https://localhost:8080/",
          "height": 221
        },
        "outputId": "816ab631-ee0a-4a58-9bc6-1614e1654420"
      },
      "source": [
        "dict={}\n",
        "n=int(input(\"enter the no of students\"))\n",
        "for i in range(n):\n",
        "  name=input(\"Enter the name\")\n",
        "  marks=int(input(\"Enter the marks\"))\n",
        "  dict[name]=marks\n",
        "print(dict)\n",
        "d1=dict.items()\n",
        "sort=sorted(d1,reverse=True);\n",
        "print(\"The sorted dictionary is\")\n",
        "print(sort)"
      ],
      "execution_count": 1,
      "outputs": [
        {
          "output_type": "stream",
          "text": [
            "enter the no of students4\n",
            "Enter the nameviny\n",
            "Enter the marks 50\n",
            "Enter the name vidy\n",
            "Enter the marks70\n",
            "Enter the name uday\n",
            "Enter the marks 35\n",
            "Enter the name umesh\n",
            "Enter the marks 45\n",
            "{'viny': 50, ' vidy': 70, ' uday': 35, ' umesh': 45}\n",
            "The sorted dictionary is\n",
            "[('viny', 50), (' vidy', 70), (' umesh', 45), (' uday', 35)]\n"
          ],
          "name": "stdout"
        }
      ]
    },
    {
      "cell_type": "markdown",
      "metadata": {
        "id": "dp2S29Ui-6f5",
        "colab_type": "text"
      },
      "source": [
        "2.\tAdd  name and salary {name:salary} for n number of employees through keyboard in a dictionary and print them in name alphabetical order with salary"
      ]
    },
    {
      "cell_type": "code",
      "metadata": {
        "id": "wOJelfk1_Kxr",
        "colab_type": "code",
        "colab": {
          "base_uri": "https://localhost:8080/",
          "height": 221
        },
        "outputId": "dc9edbee-c845-4b82-8566-b65b2367e92a"
      },
      "source": [
        "dict={}\n",
        "n=int(input(\"enter the no of employees\"))\n",
        "for i in range(n):\n",
        "  name=input(\"Enter the name\")\n",
        "  marks=int(input(\"Enter the salary\"))\n",
        "  dict[name]=marks\n",
        "print(dict)\n",
        "d1=dict.items()\n",
        "sort=sorted(d1);\n",
        "print(\"The sorted dictionary is\")\n",
        "print(sort)\n"
      ],
      "execution_count": 2,
      "outputs": [
        {
          "output_type": "stream",
          "text": [
            "enter the no of employees 4\n",
            "Enter the name abc\n",
            "Enter the salary2500\n",
            "Enter the name xyz\n",
            "Enter the salary 40000\n",
            "Enter the name xyq\n",
            "Enter the salary5000\n",
            "Enter the name nmt\n",
            "Enter the salary45000\n",
            "{' abc': 2500, ' xyz': 40000, ' xyq': 5000, ' nmt': 45000}\n",
            "The sorted dictionary is\n",
            "[(' abc', 2500), (' nmt', 45000), (' xyq', 5000), (' xyz', 40000)]\n"
          ],
          "name": "stdout"
        }
      ]
    },
    {
      "cell_type": "markdown",
      "metadata": {
        "id": "6MvLwK5x_r_j",
        "colab_type": "text"
      },
      "source": [
        "3.\tAdd  name and salary {name:salary} for n number of employees through keyboard in a dictionary and print them in salary  ascending order and  sum, max, min and average of the salaries"
      ]
    },
    {
      "cell_type": "code",
      "metadata": {
        "id": "fO7_YMn4_0SB",
        "colab_type": "code",
        "colab": {
          "base_uri": "https://localhost:8080/",
          "height": 340
        },
        "outputId": "e0b6e759-d1d0-47b0-8dd7-ecb1fa292662"
      },
      "source": [
        "import statistics\n",
        "dict={}\n",
        "n=int(input(\"enter the no of employees\"))\n",
        "for i in range(n):\n",
        "  name=input(\"Enter the name\")\n",
        "  marks=int(input(\"Enter the salary\"))\n",
        "  dict[name]=marks\n",
        "print(dict)\n",
        "sort=sorted(dict.items(),key=lambda x:x[1]);\n",
        "print(\"The sorted dictionary is\")\n",
        "print(sort)\n",
        "print(\"The sum is\")\n",
        "print(sum(dict.values()))\n",
        "print(\"the maximum is\")\n",
        "max_val=max(dict,key=dict.get)\n",
        "print(max_val)\n",
        "print(\"the minimum is\")\n",
        "min_val=min(dict,key=dict.get)\n",
        "print(min_val)\n",
        " \n",
        "mean= statistics.mean(dict.values()) \n",
        " \n",
        "print(\"The average of salary is\",mean)"
      ],
      "execution_count": 3,
      "outputs": [
        {
          "output_type": "stream",
          "text": [
            "enter the no of employees 4\n",
            "Enter the name a\n",
            "Enter the salary 25\n",
            "Enter the name b\n",
            "Enter the salary 50\n",
            "Enter the name c\n",
            "Enter the salary 100\n",
            "Enter the name z\n",
            "Enter the salary150\n",
            "{' a': 25, ' b': 50, ' c': 100, ' z': 150}\n",
            "The sorted dictionary is\n",
            "[(' a', 25), (' b', 50), (' c', 100), (' z', 150)]\n",
            "The sum is\n",
            "325\n",
            "the maximum is\n",
            " z\n",
            "the minimum is\n",
            " a\n",
            "The average of salary is 81.25\n"
          ],
          "name": "stdout"
        }
      ]
    },
    {
      "cell_type": "markdown",
      "metadata": {
        "id": "F8rAFfQiAPl0",
        "colab_type": "text"
      },
      "source": [
        "4.\tAdd name and salary {name:salary} for n number of employees through keyboard in a dictionary and print only the employees whose salary is greater than 2000 but less than 4000"
      ]
    },
    {
      "cell_type": "code",
      "metadata": {
        "id": "c5D2c1_DAT24",
        "colab_type": "code",
        "colab": {
          "base_uri": "https://localhost:8080/",
          "height": 204
        },
        "outputId": "2e7dea09-f428-439c-b37b-55cf75e74a01"
      },
      "source": [
        "\n",
        "dict={}\n",
        "n=int(input(\"enter the no of employees\"))\n",
        "for i in range(n):\n",
        "  name=input(\"Enter the name\")\n",
        "  marks=int(input(\"Enter the salary\"))\n",
        "  dict[name]=marks\n",
        "print(dict)\n",
        "res={key:val for key, val in dict.items() if val>2000 and val<4000}\n",
        "print(res)"
      ],
      "execution_count": 5,
      "outputs": [
        {
          "output_type": "stream",
          "text": [
            "enter the no of employees4\n",
            "Enter the name n\n",
            "Enter the salary4000\n",
            "Enter the name m\n",
            "Enter the salary 2500\n",
            "Enter the name t\n",
            "Enter the salary2000\n",
            "Enter the name s\n",
            "Enter the salary1500\n",
            "{' n': 4000, ' m': 2500, ' t': 2000, ' s': 1500}\n",
            "{' m': 2500}\n"
          ],
          "name": "stdout"
        }
      ]
    },
    {
      "cell_type": "markdown",
      "metadata": {
        "id": "5qHz6F_LA5cX",
        "colab_type": "text"
      },
      "source": [
        "5.\tPython program to convert a 3 digit number  into words"
      ]
    },
    {
      "cell_type": "code",
      "metadata": {
        "id": "YZH2HAE6BAjg",
        "colab_type": "code",
        "colab": {
          "base_uri": "https://localhost:8080/",
          "height": 51
        },
        "outputId": "4ceacc8c-f2ca-4a2d-f487-61e25b6e7830"
      },
      "source": [
        "d={0:'',1:'one',2:'two',3:'three',4:'four',5:'five',6:'six',7:'seven',8:'eight',9:'nine',\\\n",
        "   10:'ten',11:'eleven',12:'twelve',13:'thirteen',14:'fourteen',15:'fifteen',16:'sixteen',\\\n",
        "   17:'seventeen',18:'eightteen',19:'nineteen',20:'twenty',30:'thirty',40:'fourty',50:'fifty',\\\n",
        "   60:'sixty',70:'seventy',80:'eighty',90:'ninty',100:'hundred',200:'twohundred',300:'threehundred',400:'fourhundred',500:'fivehundred',600:'sixhundred',700:'sevenhundred',800:'eighthundred',900:'ninehundred'}\n",
        "num=int(input(\"Enter the integer between 1 to 999:\"))\n",
        "if (num<=20):\n",
        "      print(d[num])\n",
        "if(num>20 and num<1000):\n",
        "        if num%10==0:       \n",
        "            print(d[num])\n",
        "        else:\n",
        "            print(d[num//10*10]+\" \"+d[num%10])\n"
      ],
      "execution_count": 6,
      "outputs": [
        {
          "output_type": "stream",
          "text": [
            "Enter the integer between 1 to 999:99\n",
            "ninty nine\n"
          ],
          "name": "stdout"
        }
      ]
    },
    {
      "cell_type": "markdown",
      "metadata": {
        "id": "vUTA3vMHBUrZ",
        "colab_type": "text"
      },
      "source": [
        "\n",
        "1.Python Program to count the total number of charaters (except blank space) in a text file.\n"
      ]
    },
    {
      "cell_type": "code",
      "metadata": {
        "id": "-tDXFsfvBVrL",
        "colab_type": "code",
        "colab": {
          "base_uri": "https://localhost:8080/",
          "height": 51
        },
        "outputId": "8ea6b4d0-1a9d-437b-c487-6b2b0d357399"
      },
      "source": [
        "fname = input(\"Enter the name of the file:\")\n",
        "infile = open(fname, 'r')\n",
        "lines = 0\n",
        "words = 0\n",
        "characters = 0\n",
        "for line in infile:\n",
        "    wordslist = line.split()\n",
        "    lines = lines + 1\n",
        "    words = words + len(wordslist)\n",
        "    characters = characters + len(line)\n",
        "print(characters)\n"
      ],
      "execution_count": 2,
      "outputs": [
        {
          "output_type": "stream",
          "text": [
            "Enter the name of the file:/content/sample_data/newfile1.txt\n",
            "20\n"
          ],
          "name": "stdout"
        }
      ]
    },
    {
      "cell_type": "markdown",
      "metadata": {
        "id": "9JW1YQUCCQ4c",
        "colab_type": "text"
      },
      "source": [
        "2.Python Program to print all the numbers present in a text file with its total number of occurrence"
      ]
    },
    {
      "cell_type": "code",
      "metadata": {
        "id": "lWvNt8vxCVb-",
        "colab_type": "code",
        "colab": {
          "base_uri": "https://localhost:8080/",
          "height": 51
        },
        "outputId": "c7eccb84-95ad-409d-cd38-b82cbbac7d0e"
      },
      "source": [
        "fname = input(\"Enter the name of the file:\")\n",
        "infile = open(fname, 'r')\n",
        "content = infile.readlines() \n",
        "a = 0\n",
        "for line in content: \n",
        "    for i in line:  \n",
        "        if i.isdigit() == True: \n",
        "          a=a+1\n",
        "print(\"The total numbers in a text file is:\", a)"
      ],
      "execution_count": 7,
      "outputs": [
        {
          "output_type": "stream",
          "text": [
            "Enter the name of the file:/content/sample_data/newfile2.txt\n",
            "The total numbers in a text file is: 0\n"
          ],
          "name": "stdout"
        }
      ]
    },
    {
      "cell_type": "markdown",
      "metadata": {
        "id": "0HpDNOKHDZ_e",
        "colab_type": "text"
      },
      "source": [
        "3.Python Program to append the contents of one file to another file "
      ]
    },
    {
      "cell_type": "code",
      "metadata": {
        "id": "Lr1lF7UFDbaJ",
        "colab_type": "code",
        "colab": {
          "base_uri": "https://localhost:8080/",
          "height": 51
        },
        "outputId": "37d7f0f3-cf2d-4c92-a35c-1f787d87e2be"
      },
      "source": [
        "name1 = input(\"Enter file to be read from: \")\n",
        "name2 = input(\"Enter file to be appended to: \")\n",
        "fin = open(name1, \"r\")\n",
        "data2 = fin.read()\n",
        "fin.close()\n",
        "fout = open(name2, \"a\")\n",
        "fout.write(data2)\n",
        "fout.close()"
      ],
      "execution_count": 8,
      "outputs": [
        {
          "output_type": "stream",
          "text": [
            "Enter file to be read from: /content/sample_data/newfile2.txt\n",
            "Enter file to be appended to: /content/sample_data/newfile1.txt\n"
          ],
          "name": "stdout"
        }
      ]
    },
    {
      "cell_type": "markdown",
      "metadata": {
        "id": "GxnX4B5oDuPh",
        "colab_type": "text"
      },
      "source": [
        "\n",
        "4.Python Program to count the number of blank spaces in a text file. \n"
      ]
    },
    {
      "cell_type": "code",
      "metadata": {
        "id": "X0krMXxaDy6e",
        "colab_type": "code",
        "colab": {
          "base_uri": "https://localhost:8080/",
          "height": 68
        },
        "outputId": "5cfe18cf-ce08-45e2-e948-61208fbd52ae"
      },
      "source": [
        "fname = input(\"Enter file name: \")\n",
        "k = 0\n",
        "\n",
        "with open(fname, 'r') as f:\n",
        "    for line in f:\n",
        "        words = line.split()\n",
        "        for i in words:\n",
        "            for letter in i:\n",
        "                if(letter.isspace):\n",
        "                    k=k+1\n",
        "print(\"Occurrences of blank spaces:\")\n",
        "print(k)"
      ],
      "execution_count": 9,
      "outputs": [
        {
          "output_type": "stream",
          "text": [
            "Enter file name: /content/sample_data/newfile1.txt\n",
            "Occurrences of blank spaces:\n",
            "29\n"
          ],
          "name": "stdout"
        }
      ]
    },
    {
      "cell_type": "markdown",
      "metadata": {
        "id": "jdTwhJKtD8bl",
        "colab_type": "text"
      },
      "source": [
        "5.Python Program to read a file and capitalize the first letter of every word in the file and copy the every word capitalized content  into another file and read it ."
      ]
    },
    {
      "cell_type": "code",
      "metadata": {
        "id": "ZPNaGSfjEDBP",
        "colab_type": "code",
        "colab": {
          "base_uri": "https://localhost:8080/",
          "height": 119
        },
        "outputId": "0d1792f1-6841-4c18-c8fb-20db2468b0fc"
      },
      "source": [
        "fname = input(\"Enter file name: \")\n",
        "with open(fname, 'r') as f:\n",
        "    for line in f:\n",
        "        l=line.title()\n",
        "        print(l)"
      ],
      "execution_count": 10,
      "outputs": [
        {
          "output_type": "stream",
          "text": [
            "Enter file name: /content/sample_data/newfile2.txt\n",
            " I M Good\n",
            "\n",
            " I M Attending Python\n",
            "\n",
            " I M Bad\n"
          ],
          "name": "stdout"
        }
      ]
    }
  ]
}