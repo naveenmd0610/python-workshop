{
  "nbformat": 4,
  "nbformat_minor": 0,
  "metadata": {
    "colab": {
      "name": "Untitled",
      "provenance": [],
      "authorship_tag": "ABX9TyM0/kXMWqUwnkpC1/w7A81T",
      "include_colab_link": true
    },
    "kernelspec": {
      "name": "python3",
      "display_name": "Python 3"
    }
  },
  "cells": [
    {
      "cell_type": "markdown",
      "metadata": {
        "id": "view-in-github",
        "colab_type": "text"
      },
      "source": [
        "<a href=\"https://colab.research.google.com/github/nmdnaveenkumar/python-workshop/blob/master/day%20_session_1_example.ipynb\" target=\"_parent\"><img src=\"https://colab.research.google.com/assets/colab-badge.svg\" alt=\"Open In Colab\"/></a>"
      ]
    },
    {
      "cell_type": "code",
      "metadata": {
        "id": "VlS1uTyLrpbJ",
        "colab_type": "code",
        "colab": {}
      },
      "source": [
        ""
      ],
      "execution_count": null,
      "outputs": []
    },
    {
      "cell_type": "markdown",
      "metadata": {
        "id": "j4R0kUj8rr2S",
        "colab_type": "text"
      },
      "source": [
        "1.\tFind the compound interest for the given p,n,r  (formula : p(1+n*r/100)n "
      ]
    },
    {
      "cell_type": "code",
      "metadata": {
        "id": "LB_jWuumrx4w",
        "colab_type": "code",
        "colab": {
          "base_uri": "https://localhost:8080/",
          "height": 85
        },
        "outputId": "368a8e7d-7b18-416d-dd45-7c07a83b8a24"
      },
      "source": [
        "\n",
        "p = int(input(\"Enter  p no\"))\n",
        "n = int(input(\"Enter n no\"))\n",
        "r = int(input(\"Enter r no\"))\n",
        "\n",
        "\n",
        "c = p*(1+n*r/100)*n\n",
        "print('The compound interest of {0}  {1} and {2} is {3}'.format(p,n,r,c))"
      ],
      "execution_count": 1,
      "outputs": [
        {
          "output_type": "stream",
          "text": [
            "Enter  p no4\n",
            "Enter n no2\n",
            "Enter r no2\n",
            "The compound interest of 4  2 and 2 is 8.32\n"
          ],
          "name": "stdout"
        }
      ]
    },
    {
      "cell_type": "markdown",
      "metadata": {
        "id": "sNLit6WcsIaZ",
        "colab_type": "text"
      },
      "source": [
        "2.\tConvert centegrade to farenheit  ( f= 9/5*c+32)"
      ]
    },
    {
      "cell_type": "code",
      "metadata": {
        "id": "vXgpPq4TsMzZ",
        "colab_type": "code",
        "colab": {
          "base_uri": "https://localhost:8080/",
          "height": 51
        },
        "outputId": "ae01fa56-04b2-4333-f0c9-948e73a56d90"
      },
      "source": [
        "celsius = float(input(\"Enter temperature in celsius: \"))\n",
        "fahrenheit = (celsius * 9/5) + 32\n",
        "print('%.2f Celsius is: %0.2f Fahrenheit' %(celsius, fahrenheit))"
      ],
      "execution_count": 2,
      "outputs": [
        {
          "output_type": "stream",
          "text": [
            "Enter temperature in celsius: 2\n",
            "2.00 Celsius is: 35.60 Fahrenheit\n"
          ],
          "name": "stdout"
        }
      ]
    },
    {
      "cell_type": "markdown",
      "metadata": {
        "id": "swAH4YNNsfOU",
        "colab_type": "text"
      },
      "source": [
        "3.\tFind the greater of two nos "
      ]
    },
    {
      "cell_type": "code",
      "metadata": {
        "id": "39HZVCofsj3d",
        "colab_type": "code",
        "colab": {
          "base_uri": "https://localhost:8080/",
          "height": 68
        },
        "outputId": "da44994c-ee24-4f8d-fca2-0326358fa8c9"
      },
      "source": [
        "a = int(input(\"Enter the first number: \"))\n",
        "b = int(input(\"Enter the second number: \"))\n",
        "if(a >= b):\n",
        "  print(a, \"is greater\")\n",
        "else:\n",
        "  print(b, \"is greater\")\n",
        "  "
      ],
      "execution_count": 3,
      "outputs": [
        {
          "output_type": "stream",
          "text": [
            "Enter the first number: 5\n",
            "Enter the second number: 9\n",
            "9 is greater\n"
          ],
          "name": "stdout"
        }
      ]
    },
    {
      "cell_type": "markdown",
      "metadata": {
        "id": "fNZZgQgbsxYr",
        "colab_type": "text"
      },
      "source": [
        "4.\tWrite a program for finding surface areas of cylinder and cone (2*PI*r*r*h, 1/3*PI*r*r*h) using function."
      ]
    },
    {
      "cell_type": "code",
      "metadata": {
        "id": "3CxilR4stO0w",
        "colab_type": "code",
        "colab": {
          "base_uri": "https://localhost:8080/",
          "height": 51
        },
        "outputId": "cde6c50a-0f3f-495e-ba41-0081b7c241ab"
      },
      "source": [
        "import math \n",
        "\n",
        "pi = math.pi \n",
        "# Function To Calculate Surface Area of Cone \n",
        "\n",
        "def surfacearea(r, s): \n",
        "\n",
        "    return pi * r * s + pi * r * r \n",
        "\n",
        "# Function To Calculate Total Surface Area \n",
        "# of Cylinder \n",
        "\n",
        "def totalsurfacearea(r, h): \n",
        "\n",
        "    tsurf_ar = (2 * pi * r * h) + (2 * pi * r * r) \n",
        "\n",
        "    return tsurf_ar \n",
        "  \n",
        "# Driver Code \n",
        "\n",
        "radius = float(5) \n",
        "\n",
        "height = float(12) \n",
        "\n",
        "slat_height = float(13) \n",
        "\n",
        "r = 5\n",
        "\n",
        "h = 8\n",
        "print( \"Surface Area Of Cone : \", surfacearea(radius, slat_height) )\n",
        "\n",
        "print(\"Total  Surface Area  Of Cylinder =  \",totalsurfacearea(r,h))"
      ],
      "execution_count": 5,
      "outputs": [
        {
          "output_type": "stream",
          "text": [
            "Surface Area Of Cone :  282.7433388230814\n",
            "Total  Surface Area  Of Cylinder =   408.4070449666731\n"
          ],
          "name": "stdout"
        }
      ]
    },
    {
      "cell_type": "markdown",
      "metadata": {
        "id": "45QZD2s4tbR4",
        "colab_type": "text"
      },
      "source": [
        "5.\tFind the greatest of four nos ( using ‘and’ operator)   using function."
      ]
    },
    {
      "cell_type": "code",
      "metadata": {
        "id": "gDGH_o_ptfXf",
        "colab_type": "code",
        "colab": {
          "base_uri": "https://localhost:8080/",
          "height": 102
        },
        "outputId": "bf61489c-f0d2-4a76-8176-9f2e3569ff49"
      },
      "source": [
        "n1 = float(input(\" Please Enter the  n1: \"))\n",
        "n2 = float(input(\" Please Enter the  n2: \"))\n",
        "n3 = float(input(\" Please Enter the  n3: \"))\n",
        "n4 = float(input(\" Please Enter the  n4: \"))\n",
        "\n",
        "if (n1 >= n2) and (n1 >=n3) and (n1 >= n4):\n",
        "   largest = num1\n",
        "elif (n2 >= n1) and (n2 >= n3) and (n2 >= n4):\n",
        "   largest = num2\n",
        "elif (n3 >= n1) and (n3 >= n2) and (n3 >= n4):\n",
        "   largest = n3\n",
        "else:\n",
        "   largest = n4\n",
        "\n",
        "print(\"The largest number is\", largest)"
      ],
      "execution_count": 6,
      "outputs": [
        {
          "output_type": "stream",
          "text": [
            " Please Enter the  n1: 2\n",
            " Please Enter the  n2: 1\n",
            " Please Enter the  n3: 3\n",
            " Please Enter the  n4: 5\n",
            "The largest number is 5.0\n"
          ],
          "name": "stdout"
        }
      ]
    },
    {
      "cell_type": "markdown",
      "metadata": {
        "id": "wXwwcFlkt0Gn",
        "colab_type": "text"
      },
      "source": [
        "6.\tWrite a  menu program to perform the operations ( ODDorEven, Factorial, ODDNoUptoN, PrimeUptoN ) using functions for two nos with  menu choice"
      ]
    },
    {
      "cell_type": "code",
      "metadata": {
        "id": "Xge34sdyuQxY",
        "colab_type": "code",
        "colab": {
          "base_uri": "https://localhost:8080/",
          "height": 459
        },
        "outputId": "8a263700-6538-4b46-d539-bc22c2f215e4"
      },
      "source": [
        "loop = 1 \n",
        "choice = 0 \n",
        "\n",
        "def ODDorEven(m,n):\n",
        "    if(m%2==0):\n",
        "        print(m,\"is even\")\n",
        "    else:\n",
        "        print(m,\"is odd\")\n",
        "    if(n%2==0):\n",
        "        print(n,\"is even\")\n",
        "    else:\n",
        "        print(n,\"is odd\")\n",
        "def Factorial(m,n):\n",
        "    fac = 1\n",
        "    for i in range(1, m + 1):\n",
        "\t      fac = fac * i\n",
        "    print(\"factorial {0} is:\".format(m),fac)\n",
        "    fac = 1\n",
        "    for i in range(1, n + 1):\n",
        "\t      fac = fac * i\n",
        "    print(\"factorial {0} is:\".format(n),fac)\n",
        "def ODDNoUptoN(m,n):\n",
        "    print(\"odd numbers upto\",m,\"is\")\n",
        "    for i in range(m+1):\n",
        "        if(i%2!=0):\n",
        "            print(i)\n",
        "    print(\"odd numbers upto\",n,\"is\")\n",
        "    for i in range(n+1):\n",
        "        if(i%2!=0):\n",
        "            print(i)\n",
        "def PrimeUptoN(m,n):\n",
        "    print(\"prime numbers upto {0} are:\".format(m))\n",
        "    for i in range(2, m + 1):\n",
        "        if(i==2):\n",
        "            print(i)\n",
        "        j=2\n",
        "        for j in range(2, i):\n",
        "            if(i % j == 0):\n",
        "                j = i\n",
        "                break;\n",
        "        if(j != i):\n",
        "            print(i)\n",
        "    print(\"prime numbers upto {0} are:\".format(n))\n",
        "    for i in range(2,n + 1): \n",
        "        if(i==2):\n",
        "            print(i) \n",
        "        j=2\n",
        "        for j in range(2,i):  \n",
        "            if(i % j == 0):\n",
        "                j = i\n",
        "                break;\n",
        "        if(j != i):\n",
        "            print(i)\n",
        "\n",
        "\n",
        "\n",
        "while loop == 1:\n",
        "    print (\"Enter your choice:\")\n",
        "    print (\" \")\n",
        "    print(\"1) Odd or Even\")\n",
        "    print(\"2) Factorial\")\n",
        "    print(\"3) Print odd numbers\")\n",
        "    print(\"4) Prime number\")\n",
        "    print(\"5) Quit \")\n",
        "    print(\" \")\n",
        "    try:\n",
        "        choice = int(input(\"Choose your option: \"))\n",
        "    except:\n",
        "        print('please enter a valid number for option')\n",
        "    print(\" \")\n",
        "    print(\" \")\n",
        "    if choice == 1:\n",
        "        x = int(input('Enter 1st no: '))\n",
        "        y = int(input('Enter 2nd no: '))\n",
        "        ODDorEven(x,y)\n",
        "\n",
        "    elif choice == 2:\n",
        "        x = int(input('Enter 1st no: '))\n",
        "        y = int(input('Enter 2nd no: '))\n",
        "        Factorial(x,y)\n",
        "  \n",
        "    elif choice == 3:\n",
        "        x = int(input('Enter 1st no: '))\n",
        "        y = int(input('Enter 2nd no: '))\n",
        "        ODDNoUptoN(x,y)\n",
        "\n",
        "    elif choice == 4:\n",
        "        x = int(input('Enter 1st no: '))\n",
        "        y = int(input('Enter 2nd no: '))\n",
        "        PrimeUptoN(x,y)\n",
        "        \n",
        "    elif choice == 5:\n",
        "        loop = 0\n",
        "     \n",
        "    else:\n",
        "        print(\"please choice a valid option from 1 to 5\")\n",
        "        choice=0"
      ],
      "execution_count": 8,
      "outputs": [
        {
          "output_type": "stream",
          "text": [
            "Enter your choice:\n",
            " \n",
            "1) Odd or Even\n",
            "2) Factorial\n",
            "3) Print odd numbers\n",
            "4) Prime number\n",
            "5) Quit \n",
            " \n",
            "Choose your option: 1\n",
            " \n",
            " \n",
            "Enter 1st no: 5\n",
            "Enter 2nd no: 2\n",
            "5 is odd\n",
            "2 is even\n",
            "Enter your choice:\n",
            " \n",
            "1) Odd or Even\n",
            "2) Factorial\n",
            "3) Print odd numbers\n",
            "4) Prime number\n",
            "5) Quit \n",
            " \n",
            "Choose your option: 5\n",
            " \n",
            " \n"
          ],
          "name": "stdout"
        }
      ]
    }
  ]
}
